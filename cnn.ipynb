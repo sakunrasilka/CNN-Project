{
  "cells": [
    {
      "cell_type": "code",
      "execution_count": 1,
      "metadata": {
        "colab": {
          "base_uri": "https://localhost:8080/"
        },
        "id": "689k7SZG88mp",
        "outputId": "3c5f0759-1174-46d3-a897-7a833fa1a86e"
      },
      "outputs": [
        {
          "output_type": "stream",
          "name": "stdout",
          "text": [
            "      island  bill_length_mm  bill_depth_mm  flipper_length_mm  body_mass_g  \\\n",
            "0  Torgersen            39.1           18.7              181.0       3750.0   \n",
            "1  Torgersen            39.5           17.4              186.0       3800.0   \n",
            "2  Torgersen            40.3           18.0              195.0       3250.0   \n",
            "4  Torgersen            36.7           19.3              193.0       3450.0   \n",
            "5  Torgersen            39.3           20.6              190.0       3650.0   \n",
            "\n",
            "      sex  \n",
            "0    Male  \n",
            "1  Female  \n",
            "2  Female  \n",
            "4  Female  \n",
            "5    Male  \n",
            "0    0\n",
            "1    0\n",
            "2    0\n",
            "4    0\n",
            "5    0\n",
            "Name: class_encoded, dtype: int64\n"
          ]
        }
      ],
      "source": [
        "import seaborn as sns\n",
        "import pandas as pd\n",
        "from sklearn.model_selection import train_test_split\n",
        "from sklearn.preprocessing import LabelEncoder\n",
        "from sklearn.linear_model import LogisticRegression\n",
        "from sklearn.metrics import accuracy_score\n",
        "\n",
        "# Load the penguins dataset\n",
        "df = sns.load_dataset(\"penguins\")\n",
        "df.dropna(inplace=True)\n",
        "# Filter rows for 'Adelie' and 'Chinstrap' classes\n",
        "selected_classes = ['Adelie', 'Chinstrap']\n",
        "df_filtered = df[df['species'].isin(selected_classes)].copy() # Make a copy to avoid the warning\n",
        "# Initialize the LabelEncoder\n",
        "le = LabelEncoder()\n",
        "# Encode the species column\n",
        "y_encoded = le.fit_transform(df_filtered['species'])\n",
        "df_filtered['class_encoded'] = y_encoded\n",
        "df_filtered.head()\n",
        "X = df_filtered.drop(['species', 'class_encoded'], axis=1)\n",
        "y = df_filtered['class_encoded'] # Target variable\n",
        "print(X.head())\n",
        "print(y.head())"
      ]
    }
  ],
  "metadata": {
    "kernelspec": {
      "display_name": "Python 3",
      "language": "python",
      "name": "python3"
    },
    "language_info": {
      "codemirror_mode": {
        "name": "ipython",
        "version": 3
      },
      "file_extension": ".py",
      "mimetype": "text/x-python",
      "name": "python",
      "nbconvert_exporter": "python",
      "pygments_lexer": "ipython3",
      "version": "3.10.6"
    },
    "colab": {
      "provenance": []
    }
  },
  "nbformat": 4,
  "nbformat_minor": 0
}